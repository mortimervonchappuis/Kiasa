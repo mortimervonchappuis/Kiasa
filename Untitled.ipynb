{
 "cells": [
  {
   "cell_type": "code",
   "execution_count": 30,
   "metadata": {},
   "outputs": [
    {
     "name": "stdout",
     "output_type": "stream",
     "text": [
      "e2e4\n"
     ]
    }
   ],
   "source": [
    "import chess\n",
    "import chess.polyglot\n",
    "from random import shuffle\n",
    "\n",
    "board = chess.Board()\n",
    "board\n",
    "with chess.polyglot.open_reader(\"data/performance.bin\") as reader:\n",
    "    openings = [entry.move for entry in reader.find_all(board)]\n",
    "    shuffle(openings)\n",
    "    print(openings.pop())\n",
    "    #for entry in reader.find_all(board):\n",
    "    #    print(entry.move, entry.weight, entry.learn)"
   ]
  },
  {
   "cell_type": "code",
   "execution_count": 5,
   "metadata": {},
   "outputs": [
    {
     "name": "stdout",
     "output_type": "stream",
     "text": [
      "g1h3\n",
      "g1f3\n",
      "b1c3\n",
      "b1a3\n",
      "h2h3\n",
      "g2g3\n",
      "f2f3\n",
      "e2e3\n",
      "d2d3\n",
      "c2c3\n",
      "b2b3\n",
      "a2a3\n",
      "h2h4\n",
      "g2g4\n",
      "f2f4\n",
      "e2e4\n",
      "d2d4\n",
      "c2c4\n",
      "b2b4\n",
      "a2a4\n"
     ]
    }
   ],
   "source": [
    "for move in board.legal_moves:\n",
    "    print(move)"
   ]
  },
  {
   "cell_type": "code",
   "execution_count": 10,
   "metadata": {},
   "outputs": [
    {
     "name": "stdout",
     "output_type": "stream",
     "text": [
      "\n",
      "    A :class:`~chess.BaseBoard` and additional information representing\n",
      "    a chess position.\n",
      "\n",
      "    Provides move generation, validation, parsing, attack generation,\n",
      "    game end detection, move counters and the capability to make and unmake\n",
      "    moves.\n",
      "\n",
      "    The board is initialized to the standard chess starting position,\n",
      "    unless otherwise specified in the optional *fen* argument.\n",
      "    If *fen* is ``None``, an empty board is created.\n",
      "\n",
      "    Optionally supports *chess960*. In Chess960, castling moves are encoded\n",
      "    by a king move to the corresponding rook square.\n",
      "    Use :func:`chess.Board.from_chess960_pos()` to create a board with one\n",
      "    of the Chess960 starting positions.\n",
      "\n",
      "    It's safe to set :data:`~Board.turn`, :data:`~Board.castling_rights`,\n",
      "    :data:`~Board.ep_square`, :data:`~Board.halfmove_clock` and\n",
      "    :data:`~Board.fullmove_number` directly.\n",
      "    \n"
     ]
    }
   ],
   "source": [
    "print(board.__doc__)"
   ]
  },
  {
   "cell_type": "code",
   "execution_count": 79,
   "metadata": {},
   "outputs": [
    {
     "name": "stdout",
     "output_type": "stream",
     "text": [
      "R\n"
     ]
    },
    {
     "data": {
      "text/plain": [
       "{63: Piece.from_symbol('r'),\n",
       " 62: Piece.from_symbol('n'),\n",
       " 61: Piece.from_symbol('b'),\n",
       " 60: Piece.from_symbol('k'),\n",
       " 59: Piece.from_symbol('q'),\n",
       " 58: Piece.from_symbol('b'),\n",
       " 57: Piece.from_symbol('n'),\n",
       " 56: Piece.from_symbol('r'),\n",
       " 55: Piece.from_symbol('p'),\n",
       " 54: Piece.from_symbol('p'),\n",
       " 53: Piece.from_symbol('p'),\n",
       " 52: Piece.from_symbol('p'),\n",
       " 51: Piece.from_symbol('p'),\n",
       " 50: Piece.from_symbol('p'),\n",
       " 49: Piece.from_symbol('p'),\n",
       " 48: Piece.from_symbol('p'),\n",
       " 15: Piece.from_symbol('P'),\n",
       " 14: Piece.from_symbol('P'),\n",
       " 13: Piece.from_symbol('P'),\n",
       " 12: Piece.from_symbol('P'),\n",
       " 11: Piece.from_symbol('P'),\n",
       " 10: Piece.from_symbol('P'),\n",
       " 9: Piece.from_symbol('P'),\n",
       " 8: Piece.from_symbol('P'),\n",
       " 7: Piece.from_symbol('R'),\n",
       " 6: Piece.from_symbol('N'),\n",
       " 5: Piece.from_symbol('B'),\n",
       " 4: Piece.from_symbol('K'),\n",
       " 3: Piece.from_symbol('Q'),\n",
       " 2: Piece.from_symbol('B'),\n",
       " 1: Piece.from_symbol('N'),\n",
       " 0: Piece.from_symbol('R')}"
      ]
     },
     "execution_count": 79,
     "metadata": {},
     "output_type": "execute_result"
    }
   ],
   "source": [
    "board.__dir__()\n",
    "#board.status()\n",
    "#board.push_uci('e2e4')\n",
    "#print(chess.Square.__doc__)\n",
    "print(board.piece_at(chess.SQUARE_NAMES.index('a1')))\n",
    "list(board.piece_map().values()).count(chess.Piece.from_symbol('n'))\n",
    "board.piece_map()"
   ]
  }
 ],
 "metadata": {
  "kernelspec": {
   "display_name": "Python 3",
   "language": "python",
   "name": "python3"
  },
  "language_info": {
   "codemirror_mode": {
    "name": "ipython",
    "version": 3
   },
   "file_extension": ".py",
   "mimetype": "text/x-python",
   "name": "python",
   "nbconvert_exporter": "python",
   "pygments_lexer": "ipython3",
   "version": "3.8.0"
  }
 },
 "nbformat": 4,
 "nbformat_minor": 2
}
